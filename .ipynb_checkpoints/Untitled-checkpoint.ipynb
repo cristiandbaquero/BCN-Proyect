{
 "cells": [
  {
   "cell_type": "markdown",
   "metadata": {},
   "source": [
    "## Territorial division neighbourhood"
   ]
  },
  {
   "cell_type": "code",
   "execution_count": 10,
   "metadata": {},
   "outputs": [],
   "source": [
    "import json\n",
    "from pandas import json_normalize\n",
    "import pandas as pd"
   ]
  },
  {
   "cell_type": "code",
   "execution_count": 3,
   "metadata": {},
   "outputs": [],
   "source": [
    "TDN = 'https://opendata-ajuntament.barcelona.cat/data/api/action/datastore_search?resource_id=ed515bb8-502b-4dff-96dc-769f72767919'\n",
    "fileobj6 = json.load(urlopen(TDN))"
   ]
  },
  {
   "cell_type": "code",
   "execution_count": 4,
   "metadata": {},
   "outputs": [
    {
     "data": {
      "text/plain": [
       "dict_keys(['help', 'success', 'result'])"
      ]
     },
     "execution_count": 4,
     "metadata": {},
     "output_type": "execute_result"
    }
   ],
   "source": [
    "fileobj6.keys()"
   ]
  },
  {
   "cell_type": "code",
   "execution_count": 5,
   "metadata": {},
   "outputs": [
    {
     "data": {
      "text/plain": [
       "dict_keys(['resource_id', 'fields', 'records', '_links', 'total'])"
      ]
     },
     "execution_count": 5,
     "metadata": {},
     "output_type": "execute_result"
    }
   ],
   "source": [
    "fileobj6['result'].keys()"
   ]
  },
  {
   "cell_type": "code",
   "execution_count": 6,
   "metadata": {},
   "outputs": [],
   "source": [
    "sub_df6 = pd.json_normalize(fileobj6['result']['records'])"
   ]
  },
  {
   "cell_type": "code",
   "execution_count": 7,
   "metadata": {},
   "outputs": [
    {
     "data": {
      "text/html": [
       "<div>\n",
       "<style scoped>\n",
       "    .dataframe tbody tr th:only-of-type {\n",
       "        vertical-align: middle;\n",
       "    }\n",
       "\n",
       "    .dataframe tbody tr th {\n",
       "        vertical-align: top;\n",
       "    }\n",
       "\n",
       "    .dataframe thead th {\n",
       "        text-align: right;\n",
       "    }\n",
       "</style>\n",
       "<table border=\"1\" class=\"dataframe\">\n",
       "  <thead>\n",
       "    <tr style=\"text-align: right;\">\n",
       "      <th></th>\n",
       "      <th>CATEGORIA_DIVISIO</th>\n",
       "      <th>NOM_DIVISIO_TERRITORIAL</th>\n",
       "      <th>URL_FITXA_DIVISIO_TERRITORIAL</th>\n",
       "      <th>CODI_DIVISIO_TERRITORIAL</th>\n",
       "      <th>_id</th>\n",
       "      <th>CODI_DIVISIO_TERRITORIAL_PARE</th>\n",
       "    </tr>\n",
       "  </thead>\n",
       "  <tbody>\n",
       "    <tr>\n",
       "      <th>0</th>\n",
       "      <td>Barri</td>\n",
       "      <td>el Raval</td>\n",
       "      <td>https://ajuntament.barcelona.cat/estadistica/c...</td>\n",
       "      <td>B-01</td>\n",
       "      <td>1</td>\n",
       "      <td>D-01</td>\n",
       "    </tr>\n",
       "    <tr>\n",
       "      <th>1</th>\n",
       "      <td>Barri</td>\n",
       "      <td>el Barri Gòtic</td>\n",
       "      <td>https://ajuntament.barcelona.cat/estadistica/c...</td>\n",
       "      <td>B-02</td>\n",
       "      <td>2</td>\n",
       "      <td>D-01</td>\n",
       "    </tr>\n",
       "    <tr>\n",
       "      <th>2</th>\n",
       "      <td>Barri</td>\n",
       "      <td>la Barceloneta</td>\n",
       "      <td>https://ajuntament.barcelona.cat/estadistica/c...</td>\n",
       "      <td>B-03</td>\n",
       "      <td>3</td>\n",
       "      <td>D-01</td>\n",
       "    </tr>\n",
       "    <tr>\n",
       "      <th>3</th>\n",
       "      <td>Barri</td>\n",
       "      <td>Sant Pere, Santa Caterina i la Ribera</td>\n",
       "      <td>https://ajuntament.barcelona.cat/estadistica/c...</td>\n",
       "      <td>B-04</td>\n",
       "      <td>4</td>\n",
       "      <td>D-01</td>\n",
       "    </tr>\n",
       "    <tr>\n",
       "      <th>4</th>\n",
       "      <td>Barri</td>\n",
       "      <td>el Fort Pienc</td>\n",
       "      <td>https://ajuntament.barcelona.cat/estadistica/c...</td>\n",
       "      <td>B-05</td>\n",
       "      <td>5</td>\n",
       "      <td>D-02</td>\n",
       "    </tr>\n",
       "    <tr>\n",
       "      <th>...</th>\n",
       "      <td>...</td>\n",
       "      <td>...</td>\n",
       "      <td>...</td>\n",
       "      <td>...</td>\n",
       "      <td>...</td>\n",
       "      <td>...</td>\n",
       "    </tr>\n",
       "    <tr>\n",
       "      <th>78</th>\n",
       "      <td>Districte</td>\n",
       "      <td>Gràcia</td>\n",
       "      <td></td>\n",
       "      <td>D-06</td>\n",
       "      <td>79</td>\n",
       "      <td></td>\n",
       "    </tr>\n",
       "    <tr>\n",
       "      <th>79</th>\n",
       "      <td>Districte</td>\n",
       "      <td>Horta-Guinardó</td>\n",
       "      <td></td>\n",
       "      <td>D-07</td>\n",
       "      <td>80</td>\n",
       "      <td></td>\n",
       "    </tr>\n",
       "    <tr>\n",
       "      <th>80</th>\n",
       "      <td>Districte</td>\n",
       "      <td>Nou Barris</td>\n",
       "      <td></td>\n",
       "      <td>D-08</td>\n",
       "      <td>81</td>\n",
       "      <td></td>\n",
       "    </tr>\n",
       "    <tr>\n",
       "      <th>81</th>\n",
       "      <td>Districte</td>\n",
       "      <td>Sant Andreu</td>\n",
       "      <td></td>\n",
       "      <td>D-09</td>\n",
       "      <td>82</td>\n",
       "      <td></td>\n",
       "    </tr>\n",
       "    <tr>\n",
       "      <th>82</th>\n",
       "      <td>Districte</td>\n",
       "      <td>Sant Martí</td>\n",
       "      <td></td>\n",
       "      <td>D-10</td>\n",
       "      <td>83</td>\n",
       "      <td></td>\n",
       "    </tr>\n",
       "  </tbody>\n",
       "</table>\n",
       "<p>83 rows × 6 columns</p>\n",
       "</div>"
      ],
      "text/plain": [
       "   CATEGORIA_DIVISIO                NOM_DIVISIO_TERRITORIAL  \\\n",
       "0              Barri                               el Raval   \n",
       "1              Barri                         el Barri Gòtic   \n",
       "2              Barri                         la Barceloneta   \n",
       "3              Barri  Sant Pere, Santa Caterina i la Ribera   \n",
       "4              Barri                          el Fort Pienc   \n",
       "..               ...                                    ...   \n",
       "78         Districte                                 Gràcia   \n",
       "79         Districte                         Horta-Guinardó   \n",
       "80         Districte                             Nou Barris   \n",
       "81         Districte                            Sant Andreu   \n",
       "82         Districte                             Sant Martí   \n",
       "\n",
       "                        URL_FITXA_DIVISIO_TERRITORIAL  \\\n",
       "0   https://ajuntament.barcelona.cat/estadistica/c...   \n",
       "1   https://ajuntament.barcelona.cat/estadistica/c...   \n",
       "2   https://ajuntament.barcelona.cat/estadistica/c...   \n",
       "3   https://ajuntament.barcelona.cat/estadistica/c...   \n",
       "4   https://ajuntament.barcelona.cat/estadistica/c...   \n",
       "..                                                ...   \n",
       "78                                                      \n",
       "79                                                      \n",
       "80                                                      \n",
       "81                                                      \n",
       "82                                                      \n",
       "\n",
       "   CODI_DIVISIO_TERRITORIAL  _id CODI_DIVISIO_TERRITORIAL_PARE  \n",
       "0                      B-01    1                          D-01  \n",
       "1                      B-02    2                          D-01  \n",
       "2                      B-03    3                          D-01  \n",
       "3                      B-04    4                          D-01  \n",
       "4                      B-05    5                          D-02  \n",
       "..                      ...  ...                           ...  \n",
       "78                     D-06   79                                \n",
       "79                     D-07   80                                \n",
       "80                     D-08   81                                \n",
       "81                     D-09   82                                \n",
       "82                     D-10   83                                \n",
       "\n",
       "[83 rows x 6 columns]"
      ]
     },
     "execution_count": 7,
     "metadata": {},
     "output_type": "execute_result"
    }
   ],
   "source": [
    "sub_df6"
   ]
  },
  {
   "cell_type": "code",
   "execution_count": 8,
   "metadata": {},
   "outputs": [],
   "source": [
    "sub_df6 = sub_df6.drop(columns=[\"URL_FITXA_DIVISIO_TERRITORIAL\", \"CODI_DIVISIO_TERRITORIAL\", \"CODI_DIVISIO_TERRITORIAL_PARE\", \"_id\"])"
   ]
  },
  {
   "cell_type": "code",
   "execution_count": 9,
   "metadata": {},
   "outputs": [
    {
     "data": {
      "text/html": [
       "<div>\n",
       "<style scoped>\n",
       "    .dataframe tbody tr th:only-of-type {\n",
       "        vertical-align: middle;\n",
       "    }\n",
       "\n",
       "    .dataframe tbody tr th {\n",
       "        vertical-align: top;\n",
       "    }\n",
       "\n",
       "    .dataframe thead th {\n",
       "        text-align: right;\n",
       "    }\n",
       "</style>\n",
       "<table border=\"1\" class=\"dataframe\">\n",
       "  <thead>\n",
       "    <tr style=\"text-align: right;\">\n",
       "      <th></th>\n",
       "      <th>CATEGORIA_DIVISIO</th>\n",
       "      <th>NOM_DIVISIO_TERRITORIAL</th>\n",
       "    </tr>\n",
       "  </thead>\n",
       "  <tbody>\n",
       "    <tr>\n",
       "      <th>0</th>\n",
       "      <td>Barri</td>\n",
       "      <td>el Raval</td>\n",
       "    </tr>\n",
       "    <tr>\n",
       "      <th>1</th>\n",
       "      <td>Barri</td>\n",
       "      <td>el Barri Gòtic</td>\n",
       "    </tr>\n",
       "    <tr>\n",
       "      <th>2</th>\n",
       "      <td>Barri</td>\n",
       "      <td>la Barceloneta</td>\n",
       "    </tr>\n",
       "    <tr>\n",
       "      <th>3</th>\n",
       "      <td>Barri</td>\n",
       "      <td>Sant Pere, Santa Caterina i la Ribera</td>\n",
       "    </tr>\n",
       "    <tr>\n",
       "      <th>4</th>\n",
       "      <td>Barri</td>\n",
       "      <td>el Fort Pienc</td>\n",
       "    </tr>\n",
       "    <tr>\n",
       "      <th>...</th>\n",
       "      <td>...</td>\n",
       "      <td>...</td>\n",
       "    </tr>\n",
       "    <tr>\n",
       "      <th>78</th>\n",
       "      <td>Districte</td>\n",
       "      <td>Gràcia</td>\n",
       "    </tr>\n",
       "    <tr>\n",
       "      <th>79</th>\n",
       "      <td>Districte</td>\n",
       "      <td>Horta-Guinardó</td>\n",
       "    </tr>\n",
       "    <tr>\n",
       "      <th>80</th>\n",
       "      <td>Districte</td>\n",
       "      <td>Nou Barris</td>\n",
       "    </tr>\n",
       "    <tr>\n",
       "      <th>81</th>\n",
       "      <td>Districte</td>\n",
       "      <td>Sant Andreu</td>\n",
       "    </tr>\n",
       "    <tr>\n",
       "      <th>82</th>\n",
       "      <td>Districte</td>\n",
       "      <td>Sant Martí</td>\n",
       "    </tr>\n",
       "  </tbody>\n",
       "</table>\n",
       "<p>83 rows × 2 columns</p>\n",
       "</div>"
      ],
      "text/plain": [
       "   CATEGORIA_DIVISIO                NOM_DIVISIO_TERRITORIAL\n",
       "0              Barri                               el Raval\n",
       "1              Barri                         el Barri Gòtic\n",
       "2              Barri                         la Barceloneta\n",
       "3              Barri  Sant Pere, Santa Caterina i la Ribera\n",
       "4              Barri                          el Fort Pienc\n",
       "..               ...                                    ...\n",
       "78         Districte                                 Gràcia\n",
       "79         Districte                         Horta-Guinardó\n",
       "80         Districte                             Nou Barris\n",
       "81         Districte                            Sant Andreu\n",
       "82         Districte                             Sant Martí\n",
       "\n",
       "[83 rows x 2 columns]"
      ]
     },
     "execution_count": 9,
     "metadata": {},
     "output_type": "execute_result"
    }
   ],
   "source": [
    "sub_df6"
   ]
  },
  {
   "cell_type": "code",
   "execution_count": null,
   "metadata": {},
   "outputs": [],
   "source": []
  }
 ],
 "metadata": {
  "kernelspec": {
   "display_name": "Python 3",
   "language": "python",
   "name": "python3"
  },
  "language_info": {
   "codemirror_mode": {
    "name": "ipython",
    "version": 3
   },
   "file_extension": ".py",
   "mimetype": "text/x-python",
   "name": "python",
   "nbconvert_exporter": "python",
   "pygments_lexer": "ipython3",
   "version": "3.8.5"
  }
 },
 "nbformat": 4,
 "nbformat_minor": 4
}
